{
 "cells": [
  {
   "cell_type": "code",
   "execution_count": 3,
   "metadata": {},
   "outputs": [
    {
     "name": "stdout",
     "output_type": "stream",
     "text": [
      "19\n"
     ]
    }
   ],
   "source": [
    "# Overlapping rectangle area problem, using bitmask\n",
    "# Easy solution for integers but doesn't work for floating point coordinates\n",
    "\n",
    "class rect:\n",
    "    \"\"\"\n",
    "    Rectangle class defined by top-left coordinate and bottom-right coordinate\n",
    "    \"\"\"\n",
    "    def __init__(self, x1, y1, x2, y2):\n",
    "        self.x1 = x1\n",
    "        self.x2 = x2\n",
    "        self.y1 = y1\n",
    "        self.y2 = y2\n",
    "\n",
    "def get_area(rectangles, n=100):\n",
    "    \"\"\"\n",
    "    input: list of rects\n",
    "\n",
    "    output: area\n",
    "\n",
    "    Loop through all rectangles\n",
    "    mark (bitmap) the shadow of all rectangles\n",
    "    count all markings on this array\n",
    "\n",
    "    Assumption:\n",
    "    all rectangles are properly defined\n",
    "    all vertices are 0<x, y<100\n",
    "    \"\"\"\n",
    "    arr = [[0 for i in range(n)] for j in range(n)]\n",
    "    for rect in rectangles:\n",
    "        x1 = rect.x1\n",
    "        y1 = rect.y1\n",
    "        x2 = rect.x2\n",
    "        y2 = rect.y2\n",
    "        for i in range(x1, x2):\n",
    "            for j in range(y1, y2):\n",
    "                arr[i][j] = 1\n",
    "    ans = 0\n",
    "    for i in range(len(arr[0])):\n",
    "        for j in range(len(arr)):\n",
    "            ans += arr[i][j]\n",
    "\n",
    "    return ans\n",
    "\n",
    "r1 = rect(1, 1, 5, 4)\n",
    "r2 = rect(2, 2, 4, 7)\n",
    "r3 = rect(4, 2, 6, 3)\n",
    "rects = []\n",
    "rects.append(r1)\n",
    "rects.append(r2)\n",
    "rects.append(r3)\n",
    "print(get_area(rects))"
   ]
  },
  {
   "cell_type": "code",
   "execution_count": null,
   "metadata": {},
   "outputs": [],
   "source": []
  }
 ],
 "metadata": {
  "kernelspec": {
   "display_name": "base",
   "language": "python",
   "name": "python3"
  },
  "language_info": {
   "codemirror_mode": {
    "name": "ipython",
    "version": 3
   },
   "file_extension": ".py",
   "mimetype": "text/x-python",
   "name": "python",
   "nbconvert_exporter": "python",
   "pygments_lexer": "ipython3",
   "version": "3.9.7"
  }
 },
 "nbformat": 4,
 "nbformat_minor": 2
}
