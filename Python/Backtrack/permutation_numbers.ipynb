{
 "cells": [
  {
   "cell_type": "code",
   "execution_count": 1,
   "metadata": {},
   "outputs": [
    {
     "name": "stdout",
     "output_type": "stream",
     "text": [
      "[[0, 1, 2], [0, 1, 3], [0, 2, 1], [0, 2, 3], [0, 3, 1], [0, 3, 2], [1, 0, 2], [1, 0, 3], [1, 2, 0], [1, 2, 3], [1, 3, 0], [1, 3, 2], [2, 0, 1], [2, 0, 3], [2, 1, 0], [2, 1, 3], [2, 3, 0], [2, 3, 1], [3, 0, 1], [3, 0, 2], [3, 1, 0], [3, 1, 2], [3, 2, 0], [3, 2, 1]]\n"
     ]
    }
   ],
   "source": [
    "\"\"\"\n",
    "Problem: given a range n and a number of elements r, generate all possible permutations of r elements from the range n\n",
    "(permutations = order matters)\n",
    "\"\"\"\n",
    "\n",
    "\"\"\"\n",
    "Approach: backtracking. For each number, include or don't include it in the answer set\n",
    "Then recurse on the answer set we're building, using the previous answer set as a base\n",
    "\n",
    "This is mostly the same as permutation.ipynb, but instead of being given an array, we're given a range\n",
    "This is important because **the problem is the same**: we are just choosing indices, not values in the array\n",
    "\n",
    "So any problem that involves such a process should be solveable in this way! Just need to \n",
    "map the indices needed to the elements of the array\n",
    "\"\"\"\n",
    "def generate_permutations(n, r):\n",
    "    \"\"\"\n",
    "    n: is n\n",
    "    r: # of elements in the permutation\n",
    "    \"\"\"\n",
    "    ans = []\n",
    "    # Keep track of what we have added to the candidate so far\n",
    "    seen = set()\n",
    "    current_ans = []\n",
    "    def rec(current_ans):\n",
    "        if len(current_ans) == r:\n",
    "            temp = current_ans.copy()\n",
    "            ans.append(temp)\n",
    "            # After finding answer, need to break out because we've added to the final answer set\n",
    "            return\n",
    "        \n",
    "        # permutations are JUST the indices that we are choosing, so we don't need to think about it as a list necessarily\n",
    "        # it's just the indices that we're choosing\n",
    "        # Therefore, the 'seen' set is actually checking for duplicate INDICES, not duplicate values!\n",
    "        for i in range(n):\n",
    "            if i not in seen:\n",
    "                seen.add(i)\n",
    "                current_ans.append(i)\n",
    "                rec(current_ans)\n",
    "                \n",
    "                seen.remove(i)\n",
    "                current_ans.pop()\n",
    "    rec(current_ans)\n",
    "\n",
    "    return ans\n",
    "print(generate_permutations(4, 3))"
   ]
  },
  {
   "cell_type": "code",
   "execution_count": null,
   "metadata": {},
   "outputs": [],
   "source": []
  }
 ],
 "metadata": {
  "kernelspec": {
   "display_name": "base",
   "language": "python",
   "name": "python3"
  },
  "language_info": {
   "codemirror_mode": {
    "name": "ipython",
    "version": 3
   },
   "file_extension": ".py",
   "mimetype": "text/x-python",
   "name": "python",
   "nbconvert_exporter": "python",
   "pygments_lexer": "ipython3",
   "version": "3.9.7"
  }
 },
 "nbformat": 4,
 "nbformat_minor": 2
}
