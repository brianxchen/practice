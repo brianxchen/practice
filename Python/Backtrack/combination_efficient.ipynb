{
 "cells": [
  {
   "cell_type": "code",
   "execution_count": 1,
   "metadata": {},
   "outputs": [
    {
     "name": "stdout",
     "output_type": "stream",
     "text": [
      "[[0, 1, 2], [0, 1, 3], [0, 1, 4], [0, 1, 5], [0, 1, 6], [0, 1, 7], [0, 2, 3], [0, 2, 4], [0, 2, 5], [0, 2, 6], [0, 2, 7], [0, 3, 4], [0, 3, 5], [0, 3, 6], [0, 3, 7], [0, 4, 5], [0, 4, 6], [0, 4, 7], [0, 5, 6], [0, 5, 7], [0, 6, 7], [1, 2, 3], [1, 2, 4], [1, 2, 5], [1, 2, 6], [1, 2, 7], [1, 3, 4], [1, 3, 5], [1, 3, 6], [1, 3, 7], [1, 4, 5], [1, 4, 6], [1, 4, 7], [1, 5, 6], [1, 5, 7], [1, 6, 7], [2, 3, 4], [2, 3, 5], [2, 3, 6], [2, 3, 7], [2, 4, 5], [2, 4, 6], [2, 4, 7], [2, 5, 6], [2, 5, 7], [2, 6, 7], [3, 4, 5], [3, 4, 6], [3, 4, 7], [3, 5, 6], [3, 5, 7], [3, 6, 7], [4, 5, 6], [4, 5, 7], [4, 6, 7], [5, 6, 7]]\n",
      "length = 56\n"
     ]
    }
   ],
   "source": [
    "\"\"\"\n",
    "Problem: given a range n and a number of elements r, generate all possible combinations of r elements from the range n\n",
    "(combinations = order doesn't matter)\n",
    "\"\"\"\n",
    "\n",
    "\"\"\"\n",
    "Approach: backtracking. For each number, include or don't include it in the answer set\n",
    "Then recurse on the answer set we're building\n",
    "\n",
    "The approach to de-duping here is to only add within a SPECIFIC range. \n",
    "e.g. if n=100, r=3, then the starting element can only be 0-97\n",
    "and we only need to check up to 98, 99, 100 for the last element.\n",
    "\n",
    "\n",
    "\"\"\"\n",
    "\n",
    "def generate_combinations(n, r):\n",
    "    \"\"\"\n",
    "    n: is n\n",
    "    r: # of elements in the combination\n",
    "    \"\"\"\n",
    "    ans = []\n",
    "    # Keep track of what we have added to the candidate so far\n",
    "    seen = set()\n",
    "    current_ans = []\n",
    "    def rec(current_ans):\n",
    "        if len(current_ans) == r:\n",
    "            temp = current_ans.copy()\n",
    "            ans.append(temp)\n",
    "            return\n",
    "\n",
    "        if len(current_ans) == 0:\n",
    "            prev = -1 # setting this to -1 so that we can start from 0\n",
    "        else:\n",
    "            prev = current_ans[-1]\n",
    "        \n",
    "        # Calculate the range using a small example\n",
    "\n",
    "        # the next range starts one past the previous element\n",
    "        begin = prev + 1\n",
    "\n",
    "        # this is how far up the starting element can be\n",
    "        end = n-(r-len(current_ans)) + 1\n",
    "        for i in range(begin, end):\n",
    "            # we only add if not in seen to avoid duplicates\n",
    "            if i not in seen:\n",
    "                seen.add(i)\n",
    "                current_ans.append(i)\n",
    "                rec(current_ans)\n",
    "                \n",
    "                # remove BOTH changes!\n",
    "                seen.remove(i)\n",
    "                current_ans.pop()\n",
    "\n",
    "    # start the recursion\n",
    "    rec(current_ans)\n",
    "    return ans\n",
    "\n",
    "# if we're given n, then we'll just generate\n",
    "\n",
    "a = generate_combinations(8, 3)\n",
    "print(a)\n",
    "print(f\"length = {len(a)}\")"
   ]
  },
  {
   "cell_type": "code",
   "execution_count": null,
   "metadata": {},
   "outputs": [],
   "source": []
  }
 ],
 "metadata": {
  "kernelspec": {
   "display_name": "base",
   "language": "python",
   "name": "python3"
  },
  "language_info": {
   "codemirror_mode": {
    "name": "ipython",
    "version": 3
   },
   "file_extension": ".py",
   "mimetype": "text/x-python",
   "name": "python",
   "nbconvert_exporter": "python",
   "pygments_lexer": "ipython3",
   "version": "3.9.7"
  }
 },
 "nbformat": 4,
 "nbformat_minor": 2
}
