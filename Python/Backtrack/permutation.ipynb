{
 "cells": [
  {
   "cell_type": "code",
   "execution_count": 1,
   "metadata": {},
   "outputs": [
    {
     "name": "stdout",
     "output_type": "stream",
     "text": [
      "Appending [0, 1] to answer list\n",
      "Appending [0, 2] to answer list\n",
      "Appending [1, 0] to answer list\n",
      "Appending [1, 2] to answer list\n",
      "Appending [2, 0] to answer list\n",
      "Appending [2, 1] to answer list\n",
      "[[0, 1], [0, 2], [1, 0], [1, 2], [2, 0], [2, 1]]\n"
     ]
    }
   ],
   "source": [
    "\"\"\"\n",
    "Problem: given a range n and a number of elements r, generate all possible permutations of r elements from the range n\n",
    "(permutations = order matters)\n",
    "\"\"\"\n",
    "\n",
    "\"\"\"\n",
    "Approach: backtracking. For each number, include or don't include it in the answer set\n",
    "Then recurse on the answer set we're building, using the previous answer set as a base\n",
    "\"\"\"\n",
    "def generate_permutations(l, r):\n",
    "    \"\"\"\n",
    "    l: list of numbers\n",
    "    r: # of elements in the permutation\n",
    "    \"\"\"\n",
    "    ans = []\n",
    "    # Keep track of what we have added to the candidate so far\n",
    "    seen = set()\n",
    "    current_ans = []\n",
    "    def rec(current_ans):\n",
    "        if len(current_ans) == r:\n",
    "            # PASSING BY REFERENCE! So we need to add a copy to the answer list\n",
    "            # otherwise we start adjusting all of the answers\n",
    "            # So if we are appending to an answer list, need to make a copy\n",
    "            temp = current_ans.copy()\n",
    "            ans.append(temp)\n",
    "            # After finding answer, need to break out because we've added to the final answer set\n",
    "            return\n",
    "        \n",
    "        for i in range(len(l)):\n",
    "            val = l[i]\n",
    "            if val not in seen:\n",
    "                seen.add(val)\n",
    "                current_ans.append(val)\n",
    "                rec(current_ans)\n",
    "                \n",
    "                # make sure to undo both changes you made\n",
    "                seen.remove(val)\n",
    "                current_ans.pop()\n",
    "    rec(current_ans)\n",
    "\n",
    "    return ans\n",
    "\n",
    "# if we're given n, then we'll just generate\n",
    "n = 3\n",
    "l = range(n)\n",
    "\n",
    "print(generate_permutations(l, 2))\n"
   ]
  },
  {
   "cell_type": "code",
   "execution_count": null,
   "metadata": {},
   "outputs": [],
   "source": []
  }
 ],
 "metadata": {
  "kernelspec": {
   "display_name": "base",
   "language": "python",
   "name": "python3"
  },
  "language_info": {
   "codemirror_mode": {
    "name": "ipython",
    "version": 3
   },
   "file_extension": ".py",
   "mimetype": "text/x-python",
   "name": "python",
   "nbconvert_exporter": "python",
   "pygments_lexer": "ipython3",
   "version": "3.9.7"
  }
 },
 "nbformat": 4,
 "nbformat_minor": 2
}
