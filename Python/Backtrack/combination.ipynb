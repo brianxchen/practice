{
 "cells": [
  {
   "cell_type": "code",
   "execution_count": 2,
   "metadata": {},
   "outputs": [
    {
     "name": "stdout",
     "output_type": "stream",
     "text": [
      "[[0, 1], [0, 2], [1, 2]]\n"
     ]
    }
   ],
   "source": [
    "\"\"\"\n",
    "Problem: given a range n and a number of elements r, generate all possible combinations of r elements from the range n\n",
    "(combinations = order doesn't matter)\n",
    "\"\"\"\n",
    "\n",
    "\"\"\"\n",
    "Approach: backtracking. For each number, include or don't include it in the answer set\n",
    "Then recurse on the answer set we're building\n",
    "\n",
    "The approach to de-duping here is to only add if the current number is > the last number we added\n",
    "\"\"\"\n",
    "def generate_combinations(n, r):\n",
    "    \"\"\"\n",
    "    n: is n\n",
    "    r: # of elements in the combination\n",
    "    \"\"\"\n",
    "    ans = []\n",
    "    seen = set()\n",
    "    current_ans = []\n",
    "    def rec(current_ans):\n",
    "        if len(current_ans) == r:\n",
    "            ans.append(current_ans.copy())\n",
    "            # After finding answer, need to break out because we've added to the final answer set\n",
    "            return\n",
    "        \n",
    "\n",
    "        for i in range(n):\n",
    "            if i not in seen:\n",
    "                # For combinations, dedupe. Enforce order by only adding IF the next index is > last index\n",
    "                if len(current_ans) > 0:\n",
    "                    # Check if the current num is > the last num we added\n",
    "                    # this will enforce order\n",
    "                    if i <= current_ans[-1]:\n",
    "                        continue\n",
    "\n",
    "                # Backtrack. Add to seen, append to answer, and recurse on the answer we're building\n",
    "                seen.add(i)\n",
    "                current_ans.append(i)\n",
    "                rec(current_ans)\n",
    "                \n",
    "                # Afterwards, make sure to REMOVE from both the answer and the seen set\n",
    "                seen.remove(i)\n",
    "                current_ans.pop()\n",
    "    rec(current_ans)\n",
    "\n",
    "    return ans\n",
    "\n",
    "print(generate_combinations(3, 2))\n"
   ]
  },
  {
   "cell_type": "code",
   "execution_count": null,
   "metadata": {},
   "outputs": [],
   "source": []
  }
 ],
 "metadata": {
  "kernelspec": {
   "display_name": "base",
   "language": "python",
   "name": "python3"
  },
  "language_info": {
   "codemirror_mode": {
    "name": "ipython",
    "version": 3
   },
   "file_extension": ".py",
   "mimetype": "text/x-python",
   "name": "python",
   "nbconvert_exporter": "python",
   "pygments_lexer": "ipython3",
   "version": "3.9.7"
  }
 },
 "nbformat": 4,
 "nbformat_minor": 2
}
